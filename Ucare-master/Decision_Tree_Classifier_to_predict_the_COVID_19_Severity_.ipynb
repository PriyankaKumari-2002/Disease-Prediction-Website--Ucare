{
  "nbformat": 4,
  "nbformat_minor": 0,
  "metadata": {
    "colab": {
      "name": " Decision Tree Classifier to predict the COVID-19 Severity. .ipynb",
      "provenance": []
    },
    "kernelspec": {
      "name": "python3",
      "display_name": "Python 3"
    },
    "language_info": {
      "name": "python"
    }
  },
  "cells": [
    {
      "cell_type": "code",
      "metadata": {
        "colab": {
          "base_uri": "https://localhost:8080/"
        },
        "id": "_QjDmovmQwLJ",
        "outputId": "37c8b74c-f021-4ac2-d5cd-bdbd756ba07a"
      },
      "source": [
        "import pandas as pd\n",
        "from sklearn.tree import DecisionTreeClassifier\n",
        "from sklearn.model_selection import train_test_split\n",
        "from sklearn import metrics\n",
        "covid=pd.read_csv(\"Cleaned-Data.csv\")\n",
        "print(covid.head(5))"
      ],
      "execution_count": null,
      "outputs": [
        {
          "output_type": "stream",
          "name": "stdout",
          "text": [
            "   Fever  Tiredness  Dry-Cough  ...  Contact_No  Contact_Yes  Country\n",
            "0      1          1          1  ...         0.0          1.0    China\n",
            "1      1          1          1  ...         1.0          0.0    China\n",
            "2      1          1          1  ...         0.0          0.0    China\n",
            "3      1          1          1  ...         0.0          1.0    China\n",
            "4      1          1          1  ...         1.0          0.0    China\n",
            "\n",
            "[5 rows x 27 columns]\n"
          ]
        }
      ]
    },
    {
      "cell_type": "code",
      "metadata": {
        "id": "iZQFqqjAnRvk"
      },
      "source": [
        ""
      ],
      "execution_count": null,
      "outputs": []
    },
    {
      "cell_type": "code",
      "metadata": {
        "id": "y4i551KkR80r"
      },
      "source": [
        ""
      ],
      "execution_count": null,
      "outputs": []
    }
  ]
}